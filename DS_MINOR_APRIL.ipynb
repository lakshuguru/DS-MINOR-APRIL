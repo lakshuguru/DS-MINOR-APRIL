{
  "nbformat": 4,
  "nbformat_minor": 0,
  "metadata": {
    "colab": {
      "name": "DS MINOR APRIL 1.ipynb",
      "provenance": [],
      "collapsed_sections": [],
      "authorship_tag": "ABX9TyOzzjCFPHsaxm0Zt3IRol+h",
      "include_colab_link": true
    },
    "kernelspec": {
      "name": "python3",
      "display_name": "Python 3"
    },
    "language_info": {
      "name": "python"
    }
  },
  "cells": [
    {
      "cell_type": "markdown",
      "metadata": {
        "id": "view-in-github",
        "colab_type": "text"
      },
      "source": [
        "<a href=\"https://colab.research.google.com/github/lakshuguru/DS-MINOR-APRIL/blob/main/DS_MINOR_APRIL.ipynb\" target=\"_parent\"><img src=\"https://colab.research.google.com/assets/colab-badge.svg\" alt=\"Open In Colab\"/></a>"
      ]
    },
    {
      "cell_type": "code",
      "metadata": {
        "colab": {
          "base_uri": "https://localhost:8080/"
        },
        "id": "ykeiCR6eIRZH",
        "outputId": "4f3592be-5ed6-48ea-8a7c-82d2ca7a0ff1"
      },
      "source": [
        "!pip install ipython-autotime\n",
        "%load_ext autotime"
      ],
      "execution_count": null,
      "outputs": [
        {
          "output_type": "stream",
          "text": [
            "Collecting ipython-autotime\n",
            "  Downloading https://files.pythonhosted.org/packages/b4/c9/b413a24f759641bc27ef98c144b590023c8038dfb8a3f09e713e9dff12c1/ipython_autotime-0.3.1-py2.py3-none-any.whl\n",
            "Requirement already satisfied: ipython in /usr/local/lib/python3.7/dist-packages (from ipython-autotime) (5.5.0)\n",
            "Requirement already satisfied: setuptools>=18.5 in /usr/local/lib/python3.7/dist-packages (from ipython->ipython-autotime) (56.1.0)\n",
            "Requirement already satisfied: traitlets>=4.2 in /usr/local/lib/python3.7/dist-packages (from ipython->ipython-autotime) (5.0.5)\n",
            "Requirement already satisfied: pickleshare in /usr/local/lib/python3.7/dist-packages (from ipython->ipython-autotime) (0.7.5)\n",
            "Requirement already satisfied: pexpect; sys_platform != \"win32\" in /usr/local/lib/python3.7/dist-packages (from ipython->ipython-autotime) (4.8.0)\n",
            "Requirement already satisfied: decorator in /usr/local/lib/python3.7/dist-packages (from ipython->ipython-autotime) (4.4.2)\n",
            "Requirement already satisfied: pygments in /usr/local/lib/python3.7/dist-packages (from ipython->ipython-autotime) (2.6.1)\n",
            "Requirement already satisfied: simplegeneric>0.8 in /usr/local/lib/python3.7/dist-packages (from ipython->ipython-autotime) (0.8.1)\n",
            "Requirement already satisfied: prompt-toolkit<2.0.0,>=1.0.4 in /usr/local/lib/python3.7/dist-packages (from ipython->ipython-autotime) (1.0.18)\n",
            "Requirement already satisfied: ipython-genutils in /usr/local/lib/python3.7/dist-packages (from traitlets>=4.2->ipython->ipython-autotime) (0.2.0)\n",
            "Requirement already satisfied: ptyprocess>=0.5 in /usr/local/lib/python3.7/dist-packages (from pexpect; sys_platform != \"win32\"->ipython->ipython-autotime) (0.7.0)\n",
            "Requirement already satisfied: wcwidth in /usr/local/lib/python3.7/dist-packages (from prompt-toolkit<2.0.0,>=1.0.4->ipython->ipython-autotime) (0.2.5)\n",
            "Requirement already satisfied: six>=1.9.0 in /usr/local/lib/python3.7/dist-packages (from prompt-toolkit<2.0.0,>=1.0.4->ipython->ipython-autotime) (1.15.0)\n",
            "Installing collected packages: ipython-autotime\n",
            "Successfully installed ipython-autotime-0.3.1\n",
            "time: 286 µs (started: 2021-05-19 05:38:44 +00:00)\n"
          ],
          "name": "stdout"
        }
      ]
    },
    {
      "cell_type": "code",
      "metadata": {
        "colab": {
          "base_uri": "https://localhost:8080/"
        },
        "id": "Tc3RX8R7EfZn",
        "outputId": "ec9101f0-93b1-4b08-ad0b-95008d19f14b"
      },
      "source": [
        "!pip install bing-image-downloader"
      ],
      "execution_count": null,
      "outputs": [
        {
          "output_type": "stream",
          "text": [
            "Collecting bing-image-downloader\n",
            "  Downloading https://files.pythonhosted.org/packages/0d/bf/537a61030b84ae4cd5022d5c7b014fd9bc3ce7c02358919153a6658a61d3/bing_image_downloader-1.0.4-py3-none-any.whl\n",
            "Installing collected packages: bing-image-downloader\n",
            "Successfully installed bing-image-downloader-1.0.4\n"
          ],
          "name": "stdout"
        }
      ]
    },
    {
      "cell_type": "code",
      "metadata": {
        "colab": {
          "base_uri": "https://localhost:8080/"
        },
        "id": "kfi_1TJBE2-o",
        "outputId": "bf77eac8-ab8c-42a3-925e-da21cc50cb7a"
      },
      "source": [
        "!mkdir images"
      ],
      "execution_count": null,
      "outputs": [
        {
          "output_type": "stream",
          "text": [
            "mkdir: cannot create directory ‘images’: File exists\n",
            "time: 139 ms (started: 2021-05-19 07:41:21 +00:00)\n"
          ],
          "name": "stdout"
        }
      ]
    },
    {
      "cell_type": "code",
      "metadata": {
        "colab": {
          "base_uri": "https://localhost:8080/"
        },
        "id": "1-3ohwIDExqs",
        "outputId": "117546d6-5344-429a-a2e4-271ceac7f8ee"
      },
      "source": [
        "from bing_image_downloader import downloader\n",
        "downloader.download(\"people\",limit=30,output_dir='images',adult_filter_off=True)"
      ],
      "execution_count": null,
      "outputs": [
        {
          "output_type": "stream",
          "text": [
            "\n",
            "\n",
            "[!!]Indexing page: 1\n",
            "\n",
            "[%] Indexed 10 Images on Page 1.\n",
            "\n",
            "===============================================\n",
            "\n",
            "[%] Downloading Image #1 from https://www.woohome.com/wp-content/uploads/2013/12/DIY-Ways-To-Re-Use-Wine-Barrels-3.jpg\n",
            "[%] File Downloaded !\n",
            "\n",
            "[%] Downloading Image #2 from http://myamazingthings.com/wp-content/uploads/2017/03/a6ded5946fe6fcb2718c7b6ff245f863.jpg\n",
            "[%] File Downloaded !\n",
            "\n",
            "[%] Downloading Image #3 from https://ww1.prweb.com/prfiles/2005/08/05/270032/ISSBD.jpg\n",
            "[%] File Downloaded !\n",
            "\n",
            "[%] Downloading Image #4 from https://www.iphone2lovely.com/newyear/wp-content/uploads/2016/10/christmas-hd-wallpapers-1080p.jpg\n",
            "[%] File Downloaded !\n",
            "\n",
            "[%] Downloading Image #5 from https://iphoneswallpapers.com/wp-content/uploads/2016/12/road-state-texas-clouds-iPhone-Wallpaper-iphoneswallpapers_com.jpg\n",
            "[%] File Downloaded !\n",
            "\n",
            "[%] Downloading Image #6 from https://www.anime-planet.com/images/characters/celty-sturluson-4168.jpg\n",
            "[%] File Downloaded !\n",
            "\n",
            "[%] Downloading Image #7 from https://www.clubcrafted.com/wp-content/uploads/2016/11/diy-balloon-dipped-ornaments-christmas-7.jpg\n",
            "[%] File Downloaded !\n",
            "\n",
            "[%] Downloading Image #8 from https://www.anime-planet.com/images/characters/reiji-gundam-build-fighters-54558.jpg\n",
            "[%] File Downloaded !\n",
            "\n",
            "[%] Downloading Image #9 from https://wallpaperboat.com/wp-content/uploads/2020/05/15/41538/cool-lockscreens-07.jpg\n",
            "[%] File Downloaded !\n",
            "\n",
            "[%] Downloading Image #10 from https://www.anime-planet.com/images/characters/ohana-matsumae-24087.jpg\n",
            "[%] File Downloaded !\n",
            "\n",
            "\n",
            "\n",
            "[!!]Indexing page: 2\n",
            "\n",
            "[%] Indexed 10 Images on Page 2.\n",
            "\n",
            "===============================================\n",
            "\n",
            "[%] Downloading Image #11 from http://www.rolecosplay.com/blog/wp-content/uploads/2015/03/db877271bdd9263f8df6a6de1ec22750.jpg\n",
            "[%] File Downloaded !\n",
            "\n",
            "[%] Downloading Image #12 from http://www.barnorama.com/wp-content/uploads/2016/12/12-Asian-girls.jpg\n",
            "[%] File Downloaded !\n",
            "\n",
            "[%] Downloading Image #13 from https://weneedfun.com/wp-content/uploads/2016/12/Sad-Wallpapers-26-1024x768.jpg\n",
            "[%] File Downloaded !\n",
            "\n",
            "[%] Downloading Image #14 from http://www.trendzified.net/wp-content/uploads/2014/10/2wn64-cats12.jpg\n",
            "[%] File Downloaded !\n",
            "\n",
            "[%] Downloading Image #15 from https://cdn.ruinmyweek.com/wp-content/uploads/2020/11/09132720/its-about-time-we-had-a-covid-vaccine-and-some-covid-vaccine-memes-17-memes-2.png\n",
            "[%] File Downloaded !\n",
            "\n",
            "[%] Downloading Image #16 from https://www.awesomeinventions.com/wp-content/uploads/2016/03/winnie-mask-close-up.jpg\n",
            "[%] File Downloaded !\n",
            "\n",
            "[%] Downloading Image #17 from http://myamazingthings.com/wp-content/uploads/2016/12/diy-light-fixtures-1.jpg\n",
            "[%] File Downloaded !\n",
            "\n",
            "[%] Downloading Image #18 from https://www.thepoke.co.uk/wp-content/uploads/2020/09/mirror7.jpg\n",
            "[%] File Downloaded !\n",
            "\n",
            "[%] Downloading Image #19 from http://womansvibe.com/wp-content/uploads/2015/03/gray-granny-hair-trend-22__605.jpg\n",
            "[%] File Downloaded !\n",
            "\n",
            "[%] Downloading Image #20 from https://worldtruth.tv/wp-content/uploads/2016/07/TW_nguyen06.jpg\n",
            "[%] File Downloaded !\n",
            "\n",
            "\n",
            "\n",
            "[!!]Indexing page: 3\n",
            "\n",
            "[%] Indexed 9 Images on Page 3.\n",
            "\n",
            "===============================================\n",
            "\n",
            "[%] Downloading Image #21 from http://www.crystalinks.com/alienabduct.jpg\n",
            "[%] File Downloaded !\n",
            "\n",
            "[%] Downloading Image #22 from http://www.world104.com/blog/tokyoinsider/wp-content/uploads/2011/06/0042-68_1.jpg\n",
            "[%] File Downloaded !\n",
            "\n",
            "[%] Downloading Image #23 from https://www.architectureartdesigns.com/wp-content/uploads/2016/03/12-38.jpg\n",
            "[%] File Downloaded !\n",
            "\n",
            "[%] Downloading Image #24 from http://www.funcage.com/blog/wp-content/uploads/2014/03/Crazy-Drunk-People-017.jpg\n",
            "[%] File Downloaded !\n",
            "\n",
            "[%] Downloading Image #25 from https://www.architectureartdesigns.com/wp-content/uploads/2014/10/15-Unbelievable-Contemporary-Bathroom-Designs-You-Need-To-See-5-630x947.jpg\n",
            "[%] File Downloaded !\n",
            "\n",
            "[%] Downloading Image #26 from https://www.anime-planet.com/images/anime/covers/my-teen-romantic-comedy-snafu-3-13087.jpg\n",
            "[%] File Downloaded !\n",
            "\n",
            "[%] Downloading Image #27 from https://myamazingthings.com/wp-content/uploads/2017/01/balcony11.jpg\n",
            "[%] File Downloaded !\n",
            "\n",
            "[%] Downloading Image #28 from http://www.awesomeinventions.com/wp-content/uploads/2015/12/semi-circle-embroidered-leaf-art.jpg\n",
            "[%] File Downloaded !\n",
            "\n",
            "[%] Downloading Image #29 from http://www.bailwardphotography.com/wp-content/uploads/2017/05/bailward-20170408-tara-jean-teate-0442-960x1438.jpg\n",
            "[%] File Downloaded !\n",
            "\n",
            "\n",
            "\n",
            "[!!]Indexing page: 4\n",
            "\n",
            "[%] Indexed 8 Images on Page 4.\n",
            "\n",
            "===============================================\n",
            "\n",
            "[%] Downloading Image #30 from https://cdn.ruinmyweek.com/wp-content/uploads/2020/11/09132720/its-about-time-we-had-a-covid-vaccine-and-some-covid-vaccine-memes-17-memes-2.png\n",
            "[%] File Downloaded !\n",
            "\n",
            "\n",
            "\n",
            "[%] Done. Downloaded 30 images.\n",
            "\n",
            "===============================================\n",
            "\n",
            "time: 9.97 s (started: 2021-05-19 07:41:21 +00:00)\n"
          ],
          "name": "stdout"
        }
      ]
    },
    {
      "cell_type": "code",
      "metadata": {
        "colab": {
          "base_uri": "https://localhost:8080/"
        },
        "id": "KE5aciq7HCFa",
        "outputId": "662e9599-b10b-43f8-d964-056afea93237"
      },
      "source": [
        "downloader.download(\"animals\",limit=30,output_dir='images',adult_filter_off=True)"
      ],
      "execution_count": null,
      "outputs": [
        {
          "output_type": "stream",
          "text": [
            "\n",
            "\n",
            "[!!]Indexing page: 1\n",
            "\n",
            "[%] Indexed 10 Images on Page 1.\n",
            "\n",
            "===============================================\n",
            "\n",
            "[%] Downloading Image #1 from https://www.recreoviral.com/wp-content/uploads/2014/05/leon-marino-y-bebe-730x456.jpg\n",
            "[%] File Downloaded !\n",
            "\n",
            "[%] Downloading Image #2 from https://babyshowerideas4u.com/wp-content/uploads/2014/04/Jungle-Safari-Baby-Shower-ideas-co-baby-shower-ideas-great-first-birthday-party-ideas.jpg\n",
            "[%] File Downloaded !\n",
            "\n",
            "[%] Downloading Image #3 from http://www.newopticalillusions.com/wp-content/uploads/2017/07/Perspective-Photography.jpg\n",
            "[%] File Downloaded !\n",
            "\n",
            "[%] Downloading Image #4 from https://www.hdwallpapers.in/download/wild_african_lion_4k-540x960.jpg\n",
            "[%] File Downloaded !\n",
            "\n",
            "[%] Downloading Image #5 from http://tranquilmonkey.com/wp-content/uploads/2014/06/crazy-photos-7.jpg\n",
            "[%] File Downloaded !\n",
            "\n",
            "[%] Downloading Image #6 from http://www.newslinq.com/wp-content/uploads/2015/03/DogShaming18.jpg\n",
            "[%] File Downloaded !\n",
            "\n",
            "[%] Downloading Image #7 from https://hative.com/wp-content/uploads/2014/10/nautical-bedding-ideas/17-nautical-bedding-ideas-for-boys.jpg\n",
            "[%] File Downloaded !\n",
            "\n",
            "[%] Downloading Image #8 from https://tranquilmonkey.com/wp-content/uploads/2014/06/venus-two-faced-chimera-cat-7.jpg\n",
            "[%] File Downloaded !\n",
            "\n",
            "[%] Downloading Image #9 from http://www.funcage.com/blog/wp-content/uploads/2014/03/Crazy-Drunk-People-017.jpg\n",
            "[%] File Downloaded !\n",
            "\n",
            "[%] Downloading Image #10 from https://hative.com/wp-content/uploads/2014/03/animal-paper-roll-crafts/4-reindeers-kid-craft.jpg\n",
            "[%] File Downloaded !\n",
            "\n",
            "\n",
            "\n",
            "[!!]Indexing page: 2\n",
            "\n",
            "[%] Indexed 10 Images on Page 2.\n",
            "\n",
            "===============================================\n",
            "\n",
            "[%] Downloading Image #11 from http://www.viralnovelty.net/wp-content/uploads/2014/10/animal-family-portraits-19__880.jpg\n",
            "[%] File Downloaded !\n",
            "\n",
            "[%] Downloading Image #12 from http://www.trendzified.net/wp-content/uploads/2014/10/z9bms-cats1.jpg\n",
            "[%] File Downloaded !\n",
            "\n",
            "[%] Downloading Image #13 from https://wanna-joke.com/wp-content/uploads/2014/04/funny-picture-girl-car-dog-scared.jpg\n",
            "[%] File Downloaded !\n",
            "\n",
            "[%] Downloading Image #14 from https://beautyharmonylife.com/wp-content/uploads/2013/11/White-Christmas-Tree-Ornaments.jpg\n",
            "[%] File Downloaded !\n",
            "\n",
            "[%] Downloading Image #15 from http://www.recreoviral.com/wp-content/uploads/2014/11/cuento-de-hada-21.jpg\n",
            "[%] File Downloaded !\n",
            "\n",
            "[%] Downloading Image #16 from https://www.awesomeinventions.com/wp-content/uploads/2015/09/rainbow-owl.jpg\n",
            "[%] File Downloaded !\n",
            "\n",
            "[%] Downloading Image #17 from http://funnypictures.me/wp-content/uploads/2015/10/funny-pictures-bad-halloween-costumes-SHomer-Simpson.jpg\n",
            "[%] File Downloaded !\n",
            "\n",
            "[%] Downloading Image #18 from http://www.newopticalillusions.com/wp-content/uploads/2017/06/Water-Man-Illusion.jpg\n",
            "[%] File Downloaded !\n",
            "\n",
            "[%] Downloading Image #19 from https://wallpapershome.com/images/wallpapers/park-1440x2560-5k-4k-wallpaper-autumn-beautiful-leaves-trees-12401.jpg\n",
            "[%] File Downloaded !\n",
            "\n",
            "[%] Downloading Image #20 from https://thumbs.dreamstime.com/x/fire-letter-f-7197619.jpg\n",
            "[%] File Downloaded !\n",
            "\n",
            "\n",
            "\n",
            "[!!]Indexing page: 3\n",
            "\n",
            "[%] Indexed 9 Images on Page 3.\n",
            "\n",
            "===============================================\n",
            "\n",
            "[%] Downloading Image #21 from https://www.hdwallpapers.in/download/wild_african_lion_4k-540x960.jpg\n",
            "[%] File Downloaded !\n",
            "\n",
            "[%] Downloading Image #22 from http://www.newopticalillusions.com/wp-content/uploads/2017/07/Perspective-Photography.jpg\n",
            "[%] File Downloaded !\n",
            "\n",
            "[%] Downloading Image #23 from http://www.newslinq.com/wp-content/uploads/2015/03/DogShaming18.jpg\n",
            "[%] File Downloaded !\n",
            "\n",
            "[%] Downloading Image #24 from http://www.funcage.com/blog/wp-content/uploads/2014/03/Crazy-Drunk-People-017.jpg\n",
            "[%] File Downloaded !\n",
            "\n",
            "[%] Downloading Image #25 from https://hative.com/wp-content/uploads/2014/03/animal-paper-roll-crafts/4-reindeers-kid-craft.jpg\n",
            "[%] File Downloaded !\n",
            "\n",
            "[%] Downloading Image #26 from http://tranquilmonkey.com/wp-content/uploads/2014/03/alex_grey_painting_11.jpg\n",
            "[%] File Downloaded !\n",
            "\n",
            "[%] Downloading Image #27 from https://babyshowerideas4u.com/wp-content/uploads/2014/04/Jungle-Safari-Baby-Shower-ideas-co-baby-shower-ideas-great-first-birthday-party-ideas.jpg\n",
            "[%] File Downloaded !\n",
            "\n",
            "[%] Downloading Image #28 from https://hative.com/wp-content/uploads/2014/10/nautical-bedding-ideas/17-nautical-bedding-ideas-for-boys.jpg\n",
            "[%] File Downloaded !\n",
            "\n",
            "[%] Downloading Image #29 from http://tranquilmonkey.com/wp-content/uploads/2014/06/crazy-photos-7.jpg\n",
            "[%] File Downloaded !\n",
            "\n",
            "\n",
            "\n",
            "[!!]Indexing page: 4\n",
            "\n",
            "[%] Indexed 8 Images on Page 4.\n",
            "\n",
            "===============================================\n",
            "\n",
            "[%] Downloading Image #30 from https://www.newslinq.com/wp-content/uploads/2014/08/baby-cat-sleeping.jpg\n",
            "[%] File Downloaded !\n",
            "\n",
            "\n",
            "\n",
            "[%] Done. Downloaded 30 images.\n",
            "\n",
            "===============================================\n",
            "\n",
            "time: 10.7 s (started: 2021-05-19 09:03:22 +00:00)\n"
          ],
          "name": "stdout"
        }
      ]
    },
    {
      "cell_type": "code",
      "metadata": {
        "colab": {
          "base_uri": "https://localhost:8080/"
        },
        "id": "BdHxaY5dHr0c",
        "outputId": "9f9c8c0f-23ff-4455-d8cf-4c5c32ebeb8c"
      },
      "source": [
        "downloader.download(\"vehicles\",limit=30,output_dir='images',adult_filter_off=True)"
      ],
      "execution_count": null,
      "outputs": [
        {
          "output_type": "stream",
          "text": [
            "\n",
            "\n",
            "[!!]Indexing page: 1\n",
            "\n",
            "[%] Indexed 20 Images on Page 1.\n",
            "\n",
            "===============================================\n",
            "\n",
            "[%] Downloading Image #1 from https://www.luxury-sports-cars.com/wp-content/uploads/2016/08/luxury-car-rankings-best-photos-8.jpg\n",
            "[%] File Downloaded !\n",
            "\n",
            "[%] Downloading Image #2 from https://www.rjthomas-signwriting.co.uk/siteimages/26/4/1/264188/gallery79012/9798330.jpg\n",
            "[%] File Downloaded !\n",
            "\n",
            "[%] Downloading Image #3 from https://www.armaholic.com/datas/users/first-chechen-war-mod-version-100-6_4.jpg\n",
            "[%] File Downloaded !\n",
            "\n",
            "[%] Downloading Image #4 from https://designscad.com/wp-content/uploads/2016/11/detailrolldoor_77127-400x750.gif\n",
            "[%] File Downloaded !\n",
            "\n",
            "[%] Downloading Image #5 from https://www.lineargraphicstoowoomba.com.au/wp-content/uploads/2019/05/20170602_112606.jpg\n",
            "[%] File Downloaded !\n",
            "\n",
            "[%] Downloading Image #6 from https://www.mtacampervans.com/uploads/9/7/8/9/97897892/img-5098.jpg\n",
            "[%] File Downloaded !\n",
            "\n",
            "[%] Downloading Image #7 from https://www.rjthomas-signwriting.co.uk/siteimages/26/4/1/264188/gallery79012/9798338.jpg\n",
            "[%] File Downloaded !\n",
            "\n",
            "[%] Downloading Image #8 from http://williamnicol.co.uk/wp-content/uploads/2015/04/header-04-1400x472.jpg\n",
            "[%] File Downloaded !\n",
            "\n",
            "[%] Downloading Image #9 from https://cdn.toro.com/en/~/media/Images/ProductCategory/Toro/golf/golf_irrigation_field_controllers.ashx\n",
            "[%] File Downloaded !\n",
            "\n",
            "[%] Downloading Image #10 from http://www.favething.com/uploads/images/main-fave-images/main-40e578f98bfa48772ea9193fbf36856744b0d24a.jpg\n",
            "[%] File Downloaded !\n",
            "\n",
            "[%] Downloading Image #11 from https://mir-s3-cdn-cf.behance.net/project_modules/max_1200/2e70d053956995.594d7c0105a8c.jpg\n",
            "[Error]Invalid image, not saving https://mir-s3-cdn-cf.behance.net/project_modules/max_1200/2e70d053956995.594d7c0105a8c.jpg\n",
            "\n",
            "[!] Issue getting: https://mir-s3-cdn-cf.behance.net/project_modules/max_1200/2e70d053956995.594d7c0105a8c.jpg\n",
            "[!] Error:: No active exception to reraise\n",
            "[%] Downloading Image #11 from https://i.ytimg.com/vi/ktBz5U8sLb0/hqdefault.jpg\n",
            "[%] File Downloaded !\n",
            "\n",
            "[%] Downloading Image #12 from https://www.chinasprout.com/store/media/BLC054L04.jpg\n",
            "[%] File Downloaded !\n",
            "\n",
            "[%] Downloading Image #13 from https://wallpaperboat.com/wp-content/uploads/2019/06/mandala-15.jpg\n",
            "[%] File Downloaded !\n",
            "\n",
            "[%] Downloading Image #14 from https://sites.create-cdn.net/siteimages/26/4/1/264188/18/1/3/18135935/2000x1542.JPG?1583775687\n",
            "[%] File Downloaded !\n",
            "\n",
            "[%] Downloading Image #15 from http://www.awesomeinventions.com/wp-content/uploads/2015/09/command-hook-car.jpg\n",
            "[%] File Downloaded !\n",
            "\n",
            "[%] Downloading Image #16 from http://rp762.weebly.com/uploads/2/6/6/7/26673805/9474011.jpg?411\n",
            "[%] File Downloaded !\n",
            "\n",
            "[%] Downloading Image #17 from https://i.pinimg.com/originals/ee/55/2a/ee552aeb715c110d94956943099fddb7.jpg\n",
            "[%] File Downloaded !\n",
            "\n",
            "[%] Downloading Image #18 from https://space.skyrocket.de/img_lau/saturn-5__skylab-1__2.jpg\n",
            "[%] File Downloaded !\n",
            "\n",
            "[%] Downloading Image #19 from https://cdn.southampton.ac.uk/assets/imported/transforms/content-block/CB_RImg/B83C38778D8C487186AF06DDC320178B/Traffic_Signals.jpg_SIA_JPG_fit_to_width_INLINE.jpg\n",
            "[%] File Downloaded !\n",
            "\n",
            "\n",
            "\n",
            "[!!]Indexing page: 2\n",
            "\n",
            "[%] Indexed 19 Images on Page 2.\n",
            "\n",
            "===============================================\n",
            "\n",
            "[%] Downloading Image #20 from https://pictures.topspeed.com/IMG/crop/201901/volkswagen-s-cooking_1600x0w.jpg\n",
            "[%] File Downloaded !\n",
            "\n",
            "[%] Downloading Image #21 from https://www.stanco.ca/index_htm_files/1554.jpg\n",
            "[%] File Downloaded !\n",
            "\n",
            "[%] Downloading Image #22 from https://live.staticflickr.com/4073/5451424339_bce8e660a7_b.jpg\n",
            "[%] File Downloaded !\n",
            "\n",
            "[%] Downloading Image #23 from https://sites.create-cdn.net/siteimages/26/4/1/264188/4116444.jpg\n",
            "[%] File Downloaded !\n",
            "\n",
            "[%] Downloading Image #24 from https://meridiannursery.com/images/gallery/resized_95_0_12752_gallery_zoom.jpg\n",
            "[%] File Downloaded !\n",
            "\n",
            "[%] Downloading Image #25 from http://mobilehealthcareauthority.com/images/vehicles/453-2.png\n",
            "[%] File Downloaded !\n",
            "\n",
            "[%] Downloading Image #26 from https://www.armaholic.com/datas/users/arma-3-contact-2_4.jpg\n",
            "[%] File Downloaded !\n",
            "\n",
            "[%] Downloading Image #27 from https://meridiannursery.com/images/gallery/resized_106_0_28777_gallery_zoom.jpg\n",
            "[%] File Downloaded !\n",
            "\n",
            "[%] Downloading Image #28 from http://hosted.thunderhawkperformance.com/images/DSC09166.jpg\n",
            "[%] File Downloaded !\n",
            "\n",
            "[%] Downloading Image #29 from http://www.k9pix.net/nosework/NW2-PD-01-02-15/album/Vehicles/slides/DSC_4703.jpg\n",
            "[%] File Downloaded !\n",
            "\n",
            "[%] Downloading Image #30 from https://www.rjthomas-signwriting.co.uk/siteimages/26/4/1/264188/gallery79012/4116444.jpg\n",
            "[%] File Downloaded !\n",
            "\n",
            "\n",
            "\n",
            "[%] Done. Downloaded 30 images.\n",
            "\n",
            "===============================================\n",
            "\n",
            "time: 21.8 s (started: 2021-05-19 09:03:35 +00:00)\n"
          ],
          "name": "stdout"
        }
      ]
    },
    {
      "cell_type": "code",
      "metadata": {
        "colab": {
          "base_uri": "https://localhost:8080/"
        },
        "id": "pAp-vg2lH5Tk",
        "outputId": "1692cfbb-4b9f-4d3c-8c73-7b5f52cadec1"
      },
      "source": [
        "#preprocess\n",
        "\n",
        "import os\n",
        "import matplotlib.pyplot as plt\n",
        "import numpy as np\n",
        "from skimage.io import imread\n",
        "from skimage.transform import resize\n",
        "\n",
        "target = []\n",
        "images = []\n",
        "flat_data = []\n",
        "\n",
        "DATADIR = '/content/images'\n",
        "CATEGORIES = ['people','animals','vehicles']\n",
        "\n",
        "for category in CATEGORIES:\n",
        "  class_num = CATEGORIES.index(category)\n",
        "  path = os.path.join(DATADIR,category)\n",
        "  #print(path)\n",
        "  for img in os.listdir(path):\n",
        "    img_array = imread(os.path.join(path,img))\n",
        "    #print(img_array.shape)\n",
        "    #plt.imshow(img_array)\n",
        "    img_resized = resize(img_array,(125,125,3))\n",
        "    flat_data.append(img_resized.flatten())\n",
        "    images.append(img_resized)\n",
        "    target.append(class_num)\n",
        "\n",
        " #flat_data=np.array(flat_data)\n",
        " #target=np.array(target)\n",
        " #images=np.array(images)    \n",
        "\n",
        "    "
      ],
      "execution_count": null,
      "outputs": [
        {
          "output_type": "stream",
          "text": [
            "time: 15.1 s (started: 2021-05-19 09:04:18 +00:00)\n"
          ],
          "name": "stdout"
        }
      ]
    },
    {
      "cell_type": "code",
      "metadata": {
        "colab": {
          "base_uri": "https://localhost:8080/"
        },
        "id": "QHZlIIY7JFUt",
        "outputId": "743777a2-b366-4d71-94c7-edee94e68f08"
      },
      "source": [
        "len(flat_data[0])"
      ],
      "execution_count": null,
      "outputs": [
        {
          "output_type": "execute_result",
          "data": {
            "text/plain": [
              "46875"
            ]
          },
          "metadata": {
            "tags": []
          },
          "execution_count": 79
        },
        {
          "output_type": "stream",
          "text": [
            "time: 5.78 ms (started: 2021-05-19 09:04:35 +00:00)\n"
          ],
          "name": "stdout"
        }
      ]
    },
    {
      "cell_type": "code",
      "metadata": {
        "id": "aUyCK9pxYk8v"
      },
      "source": [
        "target"
      ],
      "execution_count": null,
      "outputs": []
    },
    {
      "cell_type": "code",
      "metadata": {
        "colab": {
          "base_uri": "https://localhost:8080/",
          "height": 299
        },
        "id": "dhLaEnLdZzwO",
        "outputId": "5385611f-8207-41b0-de00-6246dca8627e"
      },
      "source": [
        "unique,count = np.unique(target,return_counts=True)\n",
        "plt.bar(CATEGORIES,count)"
      ],
      "execution_count": null,
      "outputs": [
        {
          "output_type": "execute_result",
          "data": {
            "text/plain": [
              "<BarContainer object of 3 artists>"
            ]
          },
          "metadata": {
            "tags": []
          },
          "execution_count": 81
        },
        {
          "output_type": "display_data",
          "data": {
            "image/png": "[encoded data removed]",
            "text/plain": [
              "<Figure size 432x288 with 1 Axes>"
            ]
          },
          "metadata": {
            "tags": [],
            "needs_background": "light"
          }
        },
        {
          "output_type": "stream",
          "text": [
            "time: 169 ms (started: 2021-05-19 09:04:45 +00:00)\n"
          ],
          "name": "stdout"
        }
      ]
    },
    {
      "cell_type": "code",
      "metadata": {
        "colab": {
          "base_uri": "https://localhost:8080/"
        },
        "id": "8wEHOQSEabwS",
        "outputId": "8b8d0f9b-3449-4600-e8e3-a4f9aeb4dd7b"
      },
      "source": [
        "from sklearn.model_selection import train_test_split\n",
        "x_train,x_test,y_train,y_test = train_test_split(flat_data,target,test_size=0.4,random_state=177)"
      ],
      "execution_count": null,
      "outputs": [
        {
          "output_type": "stream",
          "text": [
            "time: 2.9 ms (started: 2021-05-19 09:23:10 +00:00)\n"
          ],
          "name": "stdout"
        }
      ]
    },
    {
      "cell_type": "code",
      "metadata": {
        "colab": {
          "base_uri": "https://localhost:8080/"
        },
        "id": "PduhGGAubuZ9",
        "outputId": "77b792b3-9247-4e6c-ed9c-fd173d412163"
      },
      "source": [
        "from sklearn.model_selection import GridSearchCV\n",
        "from sklearn import svm\n",
        "param_grid = [\n",
        "              {'C':[1,10,100,1000],'kernel':['linear']},\n",
        "              {'C':[1,10,100,1000],'gamma':[0.001,0.0001],'kernel':['rbf']}\n",
        "]\n",
        "\n",
        "svc = svm.SVC(probability=True)\n",
        "clf = GridSearchCV(svc,param_grid)\n",
        "clf.fit(x_train,y_train)"
      ],
      "execution_count": null,
      "outputs": [
        {
          "output_type": "execute_result",
          "data": {
            "text/plain": [
              "GridSearchCV(cv=None, error_score=nan,\n",
              "             estimator=SVC(C=1.0, break_ties=False, cache_size=200,\n",
              "                           class_weight=None, coef0=0.0,\n",
              "                           decision_function_shape='ovr', degree=3,\n",
              "                           gamma='scale', kernel='rbf', max_iter=-1,\n",
              "                           probability=True, random_state=None, shrinking=True,\n",
              "                           tol=0.001, verbose=False),\n",
              "             iid='deprecated', n_jobs=None,\n",
              "             param_grid=[{'C': [1, 10, 100, 1000], 'kernel': ['linear']},\n",
              "                         {'C': [1, 10, 100, 1000], 'gamma': [0.001, 0.0001],\n",
              "                          'kernel': ['rbf']}],\n",
              "             pre_dispatch='2*n_jobs', refit=True, return_train_score=False,\n",
              "             scoring=None, verbose=0)"
            ]
          },
          "metadata": {
            "tags": []
          },
          "execution_count": 100
        },
        {
          "output_type": "stream",
          "text": [
            "time: 2min 6s (started: 2021-05-19 09:18:49 +00:00)\n"
          ],
          "name": "stdout"
        }
      ]
    },
    {
      "cell_type": "code",
      "metadata": {
        "colab": {
          "base_uri": "https://localhost:8080/"
        },
        "id": "a0E1oLEqfdwU",
        "outputId": "190749d9-897d-4eab-89cb-6e8047be124c"
      },
      "source": [
        "y_pred = clf.predict(x_test)\n",
        "y_pred"
      ],
      "execution_count": null,
      "outputs": [
        {
          "output_type": "execute_result",
          "data": {
            "text/plain": [
              "array([0, 1, 0, 0, 2, 1, 1, 2, 0, 2, 2, 2, 1, 1, 2, 1, 0, 0, 1, 1, 1, 1,\n",
              "       1, 1, 0, 1, 1, 0, 2, 1, 0, 2, 0, 1, 0, 0, 1, 0, 2, 2])"
            ]
          },
          "metadata": {
            "tags": []
          },
          "execution_count": 113
        },
        {
          "output_type": "stream",
          "text": [
            "time: 249 ms (started: 2021-05-19 09:23:22 +00:00)\n"
          ],
          "name": "stdout"
        }
      ]
    },
    {
      "cell_type": "code",
      "metadata": {
        "id": "HvHDwa5yhX00"
      },
      "source": [
        "y_test"
      ],
      "execution_count": null,
      "outputs": []
    },
    {
      "cell_type": "code",
      "metadata": {
        "colab": {
          "base_uri": "https://localhost:8080/"
        },
        "id": "vvOfWcm3hZ3d",
        "outputId": "6b899244-9971-4de5-c7cf-5ed53847f80f"
      },
      "source": [
        "from sklearn.metrics import accuracy_score,confusion_matrix"
      ],
      "execution_count": null,
      "outputs": [
        {
          "output_type": "stream",
          "text": [
            "time: 1.03 ms (started: 2021-05-19 09:23:28 +00:00)\n"
          ],
          "name": "stdout"
        }
      ]
    },
    {
      "cell_type": "code",
      "metadata": {
        "colab": {
          "base_uri": "https://localhost:8080/"
        },
        "id": "S9PZhbSShmAD",
        "outputId": "49d1a8c2-d400-4327-91f2-1f8bfcfee689"
      },
      "source": [
        "accuracy_score(y_pred,y_test)"
      ],
      "execution_count": null,
      "outputs": [
        {
          "output_type": "execute_result",
          "data": {
            "text/plain": [
              "0.975"
            ]
          },
          "metadata": {
            "tags": []
          },
          "execution_count": 116
        },
        {
          "output_type": "stream",
          "text": [
            "time: 7.3 ms (started: 2021-05-19 09:23:31 +00:00)\n"
          ],
          "name": "stdout"
        }
      ]
    },
    {
      "cell_type": "code",
      "metadata": {
        "colab": {
          "base_uri": "https://localhost:8080/"
        },
        "id": "8Hcy3BmBhrfK",
        "outputId": "46343d05-372f-4570-d76d-03f7abd41b67"
      },
      "source": [
        "confusion_matrix(y_pred,y_test)"
      ],
      "execution_count": null,
      "outputs": [
        {
          "output_type": "execute_result",
          "data": {
            "text/plain": [
              "array([[13,  0,  0],\n",
              "       [ 1, 16,  0],\n",
              "       [ 0,  0, 10]])"
            ]
          },
          "metadata": {
            "tags": []
          },
          "execution_count": 118
        },
        {
          "output_type": "stream",
          "text": [
            "time: 7.18 ms (started: 2021-05-19 09:26:07 +00:00)\n"
          ],
          "name": "stdout"
        }
      ]
    },
    {
      "cell_type": "code",
      "metadata": {
        "id": "wPkmn1a-h5Sq"
      },
      "source": [
        ""
      ],
      "execution_count": null,
      "outputs": []
    }
  ]
}